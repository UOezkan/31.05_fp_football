{
 "cells": [
  {
   "cell_type": "raw",
   "id": "73e5cdac",
   "metadata": {},
   "source": [
    "Approach\n",
    "0 Scraping the raw data\n",
    "- https://www.capology.com/\n",
    "- https://fbref.com/en/\n",
    "1. Importing the required libraries and reading the dataset.\n",
    "2. Data pre-processing\n",
    " Removing the missing data points\n",
    " Dropping categorical variables\n",
    " Checking for multi-collinearity and removal of highly correlated features\n",
    "3. Creating train and test data by randomly shuffling data\n",
    "4. Performing train test split\n",
    "5. Model building using NumPy\n",
    " Linear Regression Model\n",
    " Ridge Regression\n",
    " Lasso Regressor\n",
    " Decision Tree Regressor\n",
    "6. Model Validation\n",
    " Mean Absolute Error\n",
    " R2 squared"
   ]
  },
  {
   "cell_type": "code",
   "execution_count": null,
   "id": "631fe0eb",
   "metadata": {},
   "outputs": [],
   "source": [
    "1. Importing the required libraries and reading the dataset.\n",
    "2. Data pre-processing\n",
    " Removing the missing data points\n",
    " Dropping categorical variables\n",
    " Checking for multi-collinearity and removal of highly correlated features\n",
    "3. Separate into numerical and categorical\n",
    "Check NaN values\n",
    "The data needs to be all numerical to use the K-Best after checking the Variance\n",
    "\n",
    " Train test split to focus on train features encoding and scaling\n",
    "\n",
    " One-Hot-Encoding\n",
    "\n",
    " Scaling train and test\n",
    "\n",
    " Concat numerical and categorical for train and test\n",
    "\n",
    " Adding in KBest\n",
    "\n",
    " Looking at multicolinearity\n",
    "\n",
    " Plots to look at highest multi-collinearity.\n",
    "\n",
    " Run a model with the chosen features\n",
    "\n",
    " Fixing imbalance - oversampled! - Re-FIT Classifier with the oversampled train set\n",
    "\n",
    " Predict - Regression Model - Run the Model\n",
    "\n",
    "\n",
    "\n",
    "\n",
    "\n",
    ""
   ]
  }
 ],
 "metadata": {
  "kernelspec": {
   "display_name": "Python 3 (ipykernel)",
   "language": "python",
   "name": "python3"
  },
  "language_info": {
   "codemirror_mode": {
    "name": "ipython",
    "version": 3
   },
   "file_extension": ".py",
   "mimetype": "text/x-python",
   "name": "python",
   "nbconvert_exporter": "python",
   "pygments_lexer": "ipython3",
   "version": "3.11.7"
  }
 },
 "nbformat": 4,
 "nbformat_minor": 5
}
