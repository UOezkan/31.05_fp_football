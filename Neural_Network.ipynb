{
 "cells": [
  {
   "cell_type": "code",
   "execution_count": 1,
   "id": "c6663e49",
   "metadata": {},
   "outputs": [],
   "source": [
    "import pandas as pd\n",
    "data = pd.read_csv('2022-2023_data.csv')"
   ]
  },
  {
   "cell_type": "code",
   "execution_count": 2,
   "id": "f7e83966",
   "metadata": {},
   "outputs": [],
   "source": [
    "\n",
    "from sklearn.model_selection import train_test_split\n",
    "from sklearn.preprocessing import StandardScaler\n",
    "from sklearn.metrics import mean_squared_error\n",
    "import numpy as np\n",
    "import tensorflow as tf\n",
    "from tensorflow.keras.models import Sequential\n",
    "from tensorflow.keras.layers import Dense, Dropout\n",
    "from tensorflow.keras.optimizers import Adam"
   ]
  },
  {
   "cell_type": "code",
   "execution_count": 3,
   "id": "2a80490f",
   "metadata": {},
   "outputs": [],
   "source": [
    "# Identify categorical and numerical features\n",
    "categorical_features = ['country_of_origin', 'team', 'league', 'position', 'age_category']\n",
    "numerical_features = data.drop(['annual_wages_eur', 'Unnamed: 0', 'player'] + categorical_features, axis=1).columns.tolist()"
   ]
  },
  {
   "cell_type": "code",
   "execution_count": 4,
   "id": "037617be",
   "metadata": {},
   "outputs": [],
   "source": [
    "# One-hot encode categorical features\n",
    "data_encoded = pd.get_dummies(data, columns=categorical_features)"
   ]
  },
  {
   "cell_type": "code",
   "execution_count": 5,
   "id": "46c0c5f6",
   "metadata": {},
   "outputs": [],
   "source": [
    "# Split the data into features and target variable\n",
    "X = data_encoded.drop(['annual_wages_eur', 'Unnamed: 0', 'player'], axis=1)\n",
    "y = data['annual_wages_eur']"
   ]
  },
  {
   "cell_type": "code",
   "execution_count": 6,
   "id": "cb182018",
   "metadata": {},
   "outputs": [],
   "source": [
    "# Scaling the numerical features\n",
    "scaler = StandardScaler()\n",
    "X[numerical_features] = scaler.fit_transform(X[numerical_features])"
   ]
  },
  {
   "cell_type": "code",
   "execution_count": 7,
   "id": "b5bdf6e1",
   "metadata": {},
   "outputs": [],
   "source": [
    "# Splitting the data into training and test sets\n",
    "X_train, X_test, y_train, y_test = train_test_split(X, y, test_size=0.2, random_state=42)"
   ]
  },
  {
   "cell_type": "code",
   "execution_count": 8,
   "id": "edc83150",
   "metadata": {},
   "outputs": [
    {
     "name": "stderr",
     "output_type": "stream",
     "text": [
      "/opt/anaconda3/lib/python3.11/site-packages/keras/src/layers/core/dense.py:87: UserWarning: Do not pass an `input_shape`/`input_dim` argument to a layer. When using Sequential models, prefer using an `Input(shape)` object as the first layer in the model instead.\n",
      "  super().__init__(activity_regularizer=activity_regularizer, **kwargs)\n"
     ]
    }
   ],
   "source": [
    "# Building the Neural Network\n",
    "model = Sequential()\n",
    "model.add(Dense(128, input_dim=X_train.shape[1], activation='relu'))\n",
    "model.add(Dropout(0.2))\n",
    "model.add(Dense(64, activation='relu'))\n",
    "model.add(Dropout(0.2))\n",
    "model.add(Dense(32, activation='relu'))\n",
    "model.add(Dense(1))"
   ]
  },
  {
   "cell_type": "code",
   "execution_count": 9,
   "id": "0de0d0a1",
   "metadata": {},
   "outputs": [],
   "source": [
    "# Compile the model\n",
    "model.compile(optimizer=Adam(learning_rate=0.002), loss='mean_squared_error')"
   ]
  },
  {
   "cell_type": "code",
   "execution_count": 10,
   "id": "fe41f621",
   "metadata": {},
   "outputs": [
    {
     "name": "stdout",
     "output_type": "stream",
     "text": [
      "Epoch 1/100\n",
      "34/34 - 1s - 19ms/step - loss: 20190955831296.0000 - val_loss: 16036334141440.0000\n",
      "Epoch 2/100\n",
      "34/34 - 0s - 1ms/step - loss: 20186553909248.0000 - val_loss: 16024590090240.0000\n",
      "Epoch 3/100\n",
      "34/34 - 0s - 1ms/step - loss: 20144958996480.0000 - val_loss: 15944711667712.0000\n",
      "Epoch 4/100\n",
      "34/34 - 0s - 1ms/step - loss: 19953273012224.0000 - val_loss: 15647790596096.0000\n",
      "Epoch 5/100\n",
      "34/34 - 0s - 1ms/step - loss: 19370117955584.0000 - val_loss: 14893922123776.0000\n",
      "Epoch 6/100\n",
      "34/34 - 0s - 1ms/step - loss: 18220836716544.0000 - val_loss: 13521917050880.0000\n",
      "Epoch 7/100\n",
      "34/34 - 0s - 1ms/step - loss: 16297414885376.0000 - val_loss: 11743631769600.0000\n",
      "Epoch 8/100\n",
      "34/34 - 0s - 1ms/step - loss: 14112702595072.0000 - val_loss: 10246598688768.0000\n",
      "Epoch 9/100\n",
      "34/34 - 0s - 1ms/step - loss: 12499112951808.0000 - val_loss: 9699704438784.0000\n",
      "Epoch 10/100\n",
      "34/34 - 0s - 1ms/step - loss: 11820554256384.0000 - val_loss: 9633002422272.0000\n",
      "Epoch 11/100\n",
      "34/34 - 0s - 1ms/step - loss: 11582580981760.0000 - val_loss: 9550349467648.0000\n",
      "Epoch 12/100\n",
      "34/34 - 0s - 1ms/step - loss: 11411224788992.0000 - val_loss: 9395814531072.0000\n",
      "Epoch 13/100\n",
      "34/34 - 0s - 1ms/step - loss: 11296679395328.0000 - val_loss: 9283263528960.0000\n",
      "Epoch 14/100\n",
      "34/34 - 0s - 1ms/step - loss: 11021858111488.0000 - val_loss: 9154931458048.0000\n",
      "Epoch 15/100\n",
      "34/34 - 0s - 1ms/step - loss: 10890070982656.0000 - val_loss: 9060525015040.0000\n",
      "Epoch 16/100\n",
      "34/34 - 0s - 1ms/step - loss: 10802318802944.0000 - val_loss: 8936598011904.0000\n",
      "Epoch 17/100\n",
      "34/34 - 0s - 1ms/step - loss: 10531914121216.0000 - val_loss: 8787922518016.0000\n",
      "Epoch 18/100\n",
      "34/34 - 0s - 1ms/step - loss: 10411339415552.0000 - val_loss: 8747087298560.0000\n",
      "Epoch 19/100\n",
      "34/34 - 0s - 1ms/step - loss: 10317824262144.0000 - val_loss: 8625062412288.0000\n",
      "Epoch 20/100\n",
      "34/34 - 0s - 1ms/step - loss: 10140108455936.0000 - val_loss: 8491362156544.0000\n",
      "Epoch 21/100\n",
      "34/34 - 0s - 1ms/step - loss: 10123527323648.0000 - val_loss: 8378290536448.0000\n",
      "Epoch 22/100\n",
      "34/34 - 0s - 1ms/step - loss: 10034728665088.0000 - val_loss: 8312292114432.0000\n",
      "Epoch 23/100\n",
      "34/34 - 0s - 1ms/step - loss: 9724656353280.0000 - val_loss: 8182198435840.0000\n",
      "Epoch 24/100\n",
      "34/34 - 0s - 1ms/step - loss: 9696270352384.0000 - val_loss: 8068855758848.0000\n",
      "Epoch 25/100\n",
      "34/34 - 0s - 1ms/step - loss: 9517926449152.0000 - val_loss: 7987903594496.0000\n",
      "Epoch 26/100\n",
      "34/34 - 0s - 1ms/step - loss: 9528122802176.0000 - val_loss: 7828533673984.0000\n",
      "Epoch 27/100\n",
      "34/34 - 0s - 1ms/step - loss: 9418145005568.0000 - val_loss: 7744937000960.0000\n",
      "Epoch 28/100\n",
      "34/34 - 0s - 1ms/step - loss: 9122149826560.0000 - val_loss: 7680459538432.0000\n",
      "Epoch 29/100\n",
      "34/34 - 0s - 1ms/step - loss: 9065626337280.0000 - val_loss: 7568197943296.0000\n",
      "Epoch 30/100\n",
      "34/34 - 0s - 1ms/step - loss: 9070599733248.0000 - val_loss: 7483614035968.0000\n",
      "Epoch 31/100\n",
      "34/34 - 0s - 1ms/step - loss: 8821590196224.0000 - val_loss: 7373818691584.0000\n",
      "Epoch 32/100\n",
      "34/34 - 0s - 2ms/step - loss: 8857997803520.0000 - val_loss: 7312437149696.0000\n",
      "Epoch 33/100\n",
      "34/34 - 0s - 2ms/step - loss: 8652197986304.0000 - val_loss: 7271241220096.0000\n",
      "Epoch 34/100\n",
      "34/34 - 0s - 2ms/step - loss: 8681740042240.0000 - val_loss: 7175355760640.0000\n",
      "Epoch 35/100\n",
      "34/34 - 0s - 2ms/step - loss: 8504708431872.0000 - val_loss: 7015800242176.0000\n",
      "Epoch 36/100\n",
      "34/34 - 0s - 2ms/step - loss: 8343734190080.0000 - val_loss: 6913572995072.0000\n",
      "Epoch 37/100\n",
      "34/34 - 0s - 2ms/step - loss: 8328645181440.0000 - val_loss: 6883737862144.0000\n",
      "Epoch 38/100\n",
      "34/34 - 0s - 2ms/step - loss: 8295231258624.0000 - val_loss: 6760663875584.0000\n",
      "Epoch 39/100\n",
      "34/34 - 0s - 2ms/step - loss: 8063230148608.0000 - val_loss: 6691885154304.0000\n",
      "Epoch 40/100\n",
      "34/34 - 0s - 2ms/step - loss: 8011488165888.0000 - val_loss: 6648234508288.0000\n",
      "Epoch 41/100\n",
      "34/34 - 0s - 2ms/step - loss: 8137123823616.0000 - val_loss: 6503382122496.0000\n",
      "Epoch 42/100\n",
      "34/34 - 0s - 2ms/step - loss: 7984366223360.0000 - val_loss: 6433707393024.0000\n",
      "Epoch 43/100\n",
      "34/34 - 0s - 2ms/step - loss: 7774992859136.0000 - val_loss: 6316338184192.0000\n",
      "Epoch 44/100\n",
      "34/34 - 0s - 2ms/step - loss: 7798198370304.0000 - val_loss: 6232461017088.0000\n",
      "Epoch 45/100\n",
      "34/34 - 0s - 2ms/step - loss: 7694074773504.0000 - val_loss: 6139893776384.0000\n",
      "Epoch 46/100\n",
      "34/34 - 0s - 2ms/step - loss: 7553086390272.0000 - val_loss: 6121623912448.0000\n",
      "Epoch 47/100\n",
      "34/34 - 0s - 2ms/step - loss: 7563079319552.0000 - val_loss: 6045509877760.0000\n",
      "Epoch 48/100\n",
      "34/34 - 0s - 2ms/step - loss: 7429548933120.0000 - val_loss: 5914356088832.0000\n",
      "Epoch 49/100\n",
      "34/34 - 0s - 2ms/step - loss: 7365890932736.0000 - val_loss: 5847202660352.0000\n",
      "Epoch 50/100\n",
      "34/34 - 0s - 2ms/step - loss: 7336245592064.0000 - val_loss: 5722690551808.0000\n",
      "Epoch 51/100\n",
      "34/34 - 0s - 2ms/step - loss: 7204164861952.0000 - val_loss: 5683993903104.0000\n",
      "Epoch 52/100\n",
      "34/34 - 0s - 2ms/step - loss: 7238888456192.0000 - val_loss: 5614613299200.0000\n",
      "Epoch 53/100\n",
      "34/34 - 0s - 2ms/step - loss: 7109967085568.0000 - val_loss: 5562357514240.0000\n",
      "Epoch 54/100\n",
      "34/34 - 0s - 2ms/step - loss: 7104669679616.0000 - val_loss: 5474681880576.0000\n",
      "Epoch 55/100\n",
      "34/34 - 0s - 2ms/step - loss: 6984133771264.0000 - val_loss: 5389406961664.0000\n",
      "Epoch 56/100\n",
      "34/34 - 0s - 2ms/step - loss: 6875777073152.0000 - val_loss: 5356659933184.0000\n",
      "Epoch 57/100\n",
      "34/34 - 0s - 2ms/step - loss: 6879701893120.0000 - val_loss: 5252346544128.0000\n",
      "Epoch 58/100\n",
      "34/34 - 0s - 2ms/step - loss: 6752808992768.0000 - val_loss: 5212588212224.0000\n",
      "Epoch 59/100\n",
      "34/34 - 0s - 2ms/step - loss: 6617820561408.0000 - val_loss: 5163135795200.0000\n",
      "Epoch 60/100\n",
      "34/34 - 0s - 1ms/step - loss: 6630277644288.0000 - val_loss: 5090076786688.0000\n",
      "Epoch 61/100\n",
      "34/34 - 0s - 2ms/step - loss: 6651784462336.0000 - val_loss: 5034708303872.0000\n",
      "Epoch 62/100\n",
      "34/34 - 0s - 1ms/step - loss: 6451337101312.0000 - val_loss: 5009825071104.0000\n",
      "Epoch 63/100\n",
      "34/34 - 0s - 1ms/step - loss: 6317968719872.0000 - val_loss: 4938073636864.0000\n",
      "Epoch 64/100\n",
      "34/34 - 0s - 1ms/step - loss: 6401539178496.0000 - val_loss: 4857000361984.0000\n",
      "Epoch 65/100\n",
      "34/34 - 0s - 1ms/step - loss: 6426080051200.0000 - val_loss: 4832654000128.0000\n",
      "Epoch 66/100\n",
      "34/34 - 0s - 1ms/step - loss: 6222625374208.0000 - val_loss: 4786229870592.0000\n",
      "Epoch 67/100\n",
      "34/34 - 0s - 1ms/step - loss: 6114627813376.0000 - val_loss: 4702205378560.0000\n",
      "Epoch 68/100\n",
      "34/34 - 0s - 1ms/step - loss: 6239423037440.0000 - val_loss: 4683468898304.0000\n",
      "Epoch 69/100\n",
      "34/34 - 0s - 1ms/step - loss: 6025996926976.0000 - val_loss: 4590183383040.0000\n",
      "Epoch 70/100\n",
      "34/34 - 0s - 1ms/step - loss: 5999226257408.0000 - val_loss: 4591048982528.0000\n",
      "Epoch 71/100\n",
      "34/34 - 0s - 1ms/step - loss: 5918341201920.0000 - val_loss: 4503672193024.0000\n",
      "Epoch 72/100\n",
      "34/34 - 0s - 1ms/step - loss: 5915629060096.0000 - val_loss: 4479299616768.0000\n",
      "Epoch 73/100\n",
      "34/34 - 0s - 1ms/step - loss: 5839612018688.0000 - val_loss: 4414744559616.0000\n",
      "Epoch 74/100\n",
      "34/34 - 0s - 1ms/step - loss: 5748980973568.0000 - val_loss: 4407625252864.0000\n",
      "Epoch 75/100\n",
      "34/34 - 0s - 1ms/step - loss: 5869254213632.0000 - val_loss: 4330471030784.0000\n",
      "Epoch 76/100\n",
      "34/34 - 0s - 1ms/step - loss: 5632969670656.0000 - val_loss: 4301208944640.0000\n",
      "Epoch 77/100\n",
      "34/34 - 0s - 1ms/step - loss: 5484923846656.0000 - val_loss: 4301463224320.0000\n",
      "Epoch 78/100\n",
      "34/34 - 0s - 1ms/step - loss: 5529759907840.0000 - val_loss: 4259675635712.0000\n",
      "Epoch 79/100\n",
      "34/34 - 0s - 1ms/step - loss: 5435716272128.0000 - val_loss: 4259612983296.0000\n",
      "Epoch 80/100\n",
      "34/34 - 0s - 1ms/step - loss: 5424703078400.0000 - val_loss: 4223183880192.0000\n",
      "Epoch 81/100\n",
      "34/34 - 0s - 1ms/step - loss: 5386756161536.0000 - val_loss: 4146192187392.0000\n",
      "Epoch 82/100\n",
      "34/34 - 0s - 1ms/step - loss: 5349864112128.0000 - val_loss: 4145855856640.0000\n",
      "Epoch 83/100\n",
      "34/34 - 0s - 1ms/step - loss: 5198627995648.0000 - val_loss: 4173051199488.0000\n",
      "Epoch 84/100\n",
      "34/34 - 0s - 1ms/step - loss: 5148674883584.0000 - val_loss: 4095240830976.0000\n",
      "Epoch 85/100\n",
      "34/34 - 0s - 1ms/step - loss: 5163503845376.0000 - val_loss: 4063511707648.0000\n",
      "Epoch 86/100\n",
      "34/34 - 0s - 1ms/step - loss: 5118929928192.0000 - val_loss: 4068940709888.0000\n",
      "Epoch 87/100\n",
      "34/34 - 0s - 1ms/step - loss: 5022450974720.0000 - val_loss: 4026504314880.0000\n",
      "Epoch 88/100\n",
      "34/34 - 0s - 1ms/step - loss: 4972107268096.0000 - val_loss: 3988444676096.0000\n"
     ]
    },
    {
     "name": "stdout",
     "output_type": "stream",
     "text": [
      "Epoch 89/100\n",
      "34/34 - 0s - 1ms/step - loss: 5006320205824.0000 - val_loss: 3977864544256.0000\n",
      "Epoch 90/100\n",
      "34/34 - 0s - 1ms/step - loss: 4972194299904.0000 - val_loss: 3954565447680.0000\n",
      "Epoch 91/100\n",
      "34/34 - 0s - 1ms/step - loss: 4823910973440.0000 - val_loss: 3942058557440.0000\n",
      "Epoch 92/100\n",
      "34/34 - 0s - 1ms/step - loss: 4899127427072.0000 - val_loss: 3980092506112.0000\n",
      "Epoch 93/100\n",
      "34/34 - 0s - 1ms/step - loss: 4741378605056.0000 - val_loss: 3940780343296.0000\n",
      "Epoch 94/100\n",
      "34/34 - 0s - 1ms/step - loss: 4814882734080.0000 - val_loss: 3928335056896.0000\n",
      "Epoch 95/100\n",
      "34/34 - 0s - 1ms/step - loss: 4739135176704.0000 - val_loss: 3918689992704.0000\n",
      "Epoch 96/100\n",
      "34/34 - 0s - 1ms/step - loss: 4701745577984.0000 - val_loss: 3866547191808.0000\n",
      "Epoch 97/100\n",
      "34/34 - 0s - 1ms/step - loss: 4755076153344.0000 - val_loss: 3867781103616.0000\n",
      "Epoch 98/100\n",
      "34/34 - 0s - 1ms/step - loss: 4615949516800.0000 - val_loss: 3847495090176.0000\n",
      "Epoch 99/100\n",
      "34/34 - 0s - 1ms/step - loss: 4561709826048.0000 - val_loss: 3863142989824.0000\n",
      "Epoch 100/100\n",
      "34/34 - 0s - 1ms/step - loss: 4421941460992.0000 - val_loss: 3858512478208.0000\n"
     ]
    }
   ],
   "source": [
    "# Train the model\n",
    "history = model.fit(X_train, y_train, validation_data=(X_test, y_test), epochs=100, batch_size=64, verbose=2)\n"
   ]
  },
  {
   "cell_type": "code",
   "execution_count": 11,
   "id": "bbe5545f",
   "metadata": {},
   "outputs": [
    {
     "name": "stdout",
     "output_type": "stream",
     "text": [
      "\u001b[1m17/17\u001b[0m \u001b[32m━━━━━━━━━━━━━━━━━━━━\u001b[0m\u001b[37m\u001b[0m \u001b[1m0s\u001b[0m 1ms/step \n"
     ]
    }
   ],
   "source": [
    "# Make predictions\n",
    "y_pred_nn = model.predict(X_test)"
   ]
  },
  {
   "cell_type": "code",
   "execution_count": 12,
   "id": "46798554",
   "metadata": {},
   "outputs": [],
   "source": [
    "# Calculate RMSE\n",
    "from sklearn.metrics import mean_squared_error, r2_score\n",
    "mse_nn = mean_squared_error(y_test, y_pred_nn)\n",
    "rmse_nn = np.sqrt(mse_nn)\n",
    "r2_nn = r2_score(y_test, y_pred_nn)"
   ]
  },
  {
   "cell_type": "code",
   "execution_count": 13,
   "id": "581baffc",
   "metadata": {},
   "outputs": [
    {
     "name": "stdout",
     "output_type": "stream",
     "text": [
      "Neural Network RMSE: 1964309.686531792 R²: 0.6189865363939189\n"
     ]
    }
   ],
   "source": [
    "print(\"Neural Network RMSE:\", rmse_nn, \"R²:\", r2_nn)"
   ]
  },
  {
   "cell_type": "code",
   "execution_count": 14,
   "id": "c8c39032",
   "metadata": {
    "scrolled": false
   },
   "outputs": [
    {
     "data": {
      "image/png": "[encoded data removed]",
      "text/plain": [
       "<Figure size 1300x1000 with 1 Axes>"
      ]
     },
     "metadata": {},
     "output_type": "display_data"
    }
   ],
   "source": [
    "# Plot the training history\n",
    "import matplotlib.pyplot as plt\n",
    "\n",
    "plt.figure(figsize=(13, 10))\n",
    "plt.plot(history.history['loss'], label='Training Loss')\n",
    "plt.plot(history.history['val_loss'], label='Validation Loss')\n",
    "plt.title('Training and Validation Loss')\n",
    "plt.xlabel('Epochs')\n",
    "plt.ylabel('Loss')\n",
    "plt.legend()\n",
    "plt.show()"
   ]
  },
  {
   "cell_type": "code",
   "execution_count": null,
   "id": "f87dadab",
   "metadata": {},
   "outputs": [],
   "source": [
    "https://public.tableau.com/app/profile/utku.oezkan/viz/Football-Country/NationvsLeague?publish=yes"
   ]
  }
 ],
 "metadata": {
  "kernelspec": {
   "display_name": "Python 3 (ipykernel)",
   "language": "python",
   "name": "python3"
  },
  "language_info": {
   "codemirror_mode": {
    "name": "ipython",
    "version": 3
   },
   "file_extension": ".py",
   "mimetype": "text/x-python",
   "name": "python",
   "nbconvert_exporter": "python",
   "pygments_lexer": "ipython3",
   "version": "3.11.7"
  }
 },
 "nbformat": 4,
 "nbformat_minor": 5
}
