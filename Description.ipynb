{
 "cells": [
  {
   "cell_type": "raw",
   "id": "5104452b",
   "metadata": {},
   "source": [
    "Description of the Player Stats\n",
    "Nation : the Nationality of the Player\n",
    "Pos : the Position\n",
    "Squad : the Team\n",
    "Age\n",
    "Born: the Birth Year\n",
    "MP : Matches played\n",
    "Starts : # of the Games started as Player\n",
    "Min : the Minutes\n",
    "90s : The Total Minutes played divided by 90 minutes\n",
    "Gls : # of total Goals\n",
    "Ast : # of total Assists\n",
    "G + A : the Sumf of Goals & Assists\n",
    "G-PK : Non penalthy goals\n",
    "PK : the Penalty Kicks Made\n",
    "PKatt : Penalty Kicks Attempted\n",
    "CrdY : The Yellow Cards\n",
    "CrdR : The Red Cards\n",
    "xG : the Expected Goals\n",
    "npxG : the non-penalthy Expected Goals\n",
    "xAG : expected assisted Goals\n",
    "PrgC : Progressive Carrier\n",
    "PrgP : Progressive Passes\n",
    "PrgR : Progressive Received\n",
    "_90 : per 90 Minutes\n",
    "Touches : # of times a Player touched a ball\n",
    "Att Pen : # Touches in attacking penalty area\n",
    "Att : Takes on attempts to take on defenders\n",
    "Succ : Successful Take-ons\n",
    "Carries : Number of times the player controlled the ball with their feet \n",
    "TotDist : Total CArrying distance \n",
    "Mis : Miscontrols\n",
    "Dis : Dispossessed Number of times the player loses control of the ball\n",
    "Rec : Number of times the player successfully received a pass\n",
    " \n"
   ]
  }
 ],
 "metadata": {
  "kernelspec": {
   "display_name": "Python 3 (ipykernel)",
   "language": "python",
   "name": "python3"
  },
  "language_info": {
   "codemirror_mode": {
    "name": "ipython",
    "version": 3
   },
   "file_extension": ".py",
   "mimetype": "text/x-python",
   "name": "python",
   "nbconvert_exporter": "python",
   "pygments_lexer": "ipython3",
   "version": "3.11.7"
  }
 },
 "nbformat": 4,
 "nbformat_minor": 5
}
